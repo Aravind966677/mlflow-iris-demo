{
 "cells": [
  {
   "cell_type": "code",
   "execution_count": 38,
   "metadata": {},
   "outputs": [
    {
     "name": "stderr",
     "output_type": "stream",
     "text": [
      "2024/12/16 11:46:35 INFO mlflow.tracking.fluent: Experiment with name 'Solver Comparison for Logistic Regression' does not exist. Creating a new experiment.\n"
     ]
    },
    {
     "name": "stderr",
     "output_type": "stream",
     "text": [
      "c:\\MLflow\\venv\\lib\\site-packages\\sklearn\\linear_model\\_logistic.py:1247: FutureWarning: 'multi_class' was deprecated in version 1.5 and will be removed in 1.7. From then on, it will always use 'multinomial'. Leave it to its default value to avoid this warning.\n",
      "  warnings.warn(\n"
     ]
    },
    {
     "name": "stdout",
     "output_type": "stream",
     "text": [
      "Training with solver: lbfgs\n",
      "Accuracy: 1.0, F1 Score: 1.0\n"
     ]
    },
    {
     "name": "stderr",
     "output_type": "stream",
     "text": [
      "2024/12/16 11:46:45 WARNING mlflow.models.model: Model logged without a signature and input example. Please set `input_example` parameter when logging the model to auto infer the model signature.\n",
      "Successfully registered model 'logistic_regression_solver_lbfgs'.\n",
      "2024/12/16 11:46:45 INFO mlflow.store.model_registry.abstract_store: Waiting up to 300 seconds for model version to finish creation. Model name: logistic_regression_solver_lbfgs, version 1\n",
      "Created version '1' of model 'logistic_regression_solver_lbfgs'.\n",
      "c:\\MLflow\\venv\\lib\\site-packages\\sklearn\\linear_model\\_logistic.py:1247: FutureWarning: 'multi_class' was deprecated in version 1.5 and will be removed in 1.7. From then on, it will always use 'multinomial'. Leave it to its default value to avoid this warning.\n",
      "  warnings.warn(\n"
     ]
    },
    {
     "name": "stdout",
     "output_type": "stream",
     "text": [
      "Model with solver 'lbfgs' logged successfully.\n",
      "\n",
      "🏃 View run hilarious-skink-568 at: http://127.0.0.1:5000/#/experiments/110915975825167327/runs/7f491db601ab4f81b5af1031d7ed663c\n",
      "🧪 View experiment at: http://127.0.0.1:5000/#/experiments/110915975825167327\n",
      "Training with solver: liblinear\n",
      "Accuracy: 0.9666666666666667, F1 Score: 0.9664109121909632\n"
     ]
    },
    {
     "name": "stderr",
     "output_type": "stream",
     "text": [
      "2024/12/16 11:46:54 WARNING mlflow.models.model: Model logged without a signature and input example. Please set `input_example` parameter when logging the model to auto infer the model signature.\n",
      "Successfully registered model 'logistic_regression_solver_liblinear'.\n",
      "2024/12/16 11:46:54 INFO mlflow.store.model_registry.abstract_store: Waiting up to 300 seconds for model version to finish creation. Model name: logistic_regression_solver_liblinear, version 1\n",
      "Created version '1' of model 'logistic_regression_solver_liblinear'.\n",
      "c:\\MLflow\\venv\\lib\\site-packages\\sklearn\\linear_model\\_logistic.py:1247: FutureWarning: 'multi_class' was deprecated in version 1.5 and will be removed in 1.7. From then on, it will always use 'multinomial'. Leave it to its default value to avoid this warning.\n",
      "  warnings.warn(\n"
     ]
    },
    {
     "name": "stdout",
     "output_type": "stream",
     "text": [
      "Model with solver 'liblinear' logged successfully.\n",
      "\n",
      "🏃 View run loud-conch-900 at: http://127.0.0.1:5000/#/experiments/110915975825167327/runs/7b72cae3c3d041ceba34ac3507c46492\n",
      "🧪 View experiment at: http://127.0.0.1:5000/#/experiments/110915975825167327\n",
      "Training with solver: sag\n",
      "Accuracy: 1.0, F1 Score: 1.0\n"
     ]
    },
    {
     "name": "stderr",
     "output_type": "stream",
     "text": [
      "2024/12/16 11:47:03 WARNING mlflow.models.model: Model logged without a signature and input example. Please set `input_example` parameter when logging the model to auto infer the model signature.\n",
      "Successfully registered model 'logistic_regression_solver_sag'.\n",
      "2024/12/16 11:47:04 INFO mlflow.store.model_registry.abstract_store: Waiting up to 300 seconds for model version to finish creation. Model name: logistic_regression_solver_sag, version 1\n",
      "Created version '1' of model 'logistic_regression_solver_sag'.\n",
      "c:\\MLflow\\venv\\lib\\site-packages\\sklearn\\linear_model\\_logistic.py:1247: FutureWarning: 'multi_class' was deprecated in version 1.5 and will be removed in 1.7. From then on, it will always use 'multinomial'. Leave it to its default value to avoid this warning.\n",
      "  warnings.warn(\n"
     ]
    },
    {
     "name": "stdout",
     "output_type": "stream",
     "text": [
      "Model with solver 'sag' logged successfully.\n",
      "\n",
      "🏃 View run valuable-elk-746 at: http://127.0.0.1:5000/#/experiments/110915975825167327/runs/4b22778ec9c94ee999b90c58ad468df3\n",
      "🧪 View experiment at: http://127.0.0.1:5000/#/experiments/110915975825167327\n",
      "Training with solver: saga\n",
      "Accuracy: 1.0, F1 Score: 1.0\n"
     ]
    },
    {
     "name": "stderr",
     "output_type": "stream",
     "text": [
      "2024/12/16 11:47:12 WARNING mlflow.models.model: Model logged without a signature and input example. Please set `input_example` parameter when logging the model to auto infer the model signature.\n",
      "Successfully registered model 'logistic_regression_solver_saga'.\n",
      "2024/12/16 11:47:13 INFO mlflow.store.model_registry.abstract_store: Waiting up to 300 seconds for model version to finish creation. Model name: logistic_regression_solver_saga, version 1\n",
      "Created version '1' of model 'logistic_regression_solver_saga'.\n",
      "c:\\MLflow\\venv\\lib\\site-packages\\sklearn\\linear_model\\_logistic.py:1247: FutureWarning: 'multi_class' was deprecated in version 1.5 and will be removed in 1.7. From then on, it will always use 'multinomial'. Leave it to its default value to avoid this warning.\n",
      "  warnings.warn(\n"
     ]
    },
    {
     "name": "stdout",
     "output_type": "stream",
     "text": [
      "Model with solver 'saga' logged successfully.\n",
      "\n",
      "🏃 View run learned-chimp-931 at: http://127.0.0.1:5000/#/experiments/110915975825167327/runs/1abd30355dd44dc49b47aee20e72e634\n",
      "🧪 View experiment at: http://127.0.0.1:5000/#/experiments/110915975825167327\n",
      "Training with solver: newton-cg\n",
      "Accuracy: 1.0, F1 Score: 1.0\n"
     ]
    },
    {
     "name": "stderr",
     "output_type": "stream",
     "text": [
      "2024/12/16 11:47:22 WARNING mlflow.models.model: Model logged without a signature and input example. Please set `input_example` parameter when logging the model to auto infer the model signature.\n",
      "Successfully registered model 'logistic_regression_solver_newton-cg'.\n",
      "2024/12/16 11:47:22 INFO mlflow.store.model_registry.abstract_store: Waiting up to 300 seconds for model version to finish creation. Model name: logistic_regression_solver_newton-cg, version 1\n"
     ]
    },
    {
     "name": "stdout",
     "output_type": "stream",
     "text": [
      "Model with solver 'newton-cg' logged successfully.\n",
      "\n",
      "🏃 View run dashing-hound-651 at: http://127.0.0.1:5000/#/experiments/110915975825167327/runs/2fa923e0aa7d45488a30d00dcd0e1421\n",
      "🧪 View experiment at: http://127.0.0.1:5000/#/experiments/110915975825167327\n"
     ]
    },
    {
     "name": "stderr",
     "output_type": "stream",
     "text": [
      "Created version '1' of model 'logistic_regression_solver_newton-cg'.\n"
     ]
    }
   ],
   "source": [
    "# Import required libraries\n",
    "import mlflow\n",
    "import mlflow.sklearn\n",
    "from sklearn.datasets import load_iris\n",
    "from sklearn.model_selection import train_test_split\n",
    "from sklearn.linear_model import LogisticRegression\n",
    "from sklearn.metrics import accuracy_score, f1_score\n",
    "from sklearn.preprocessing import StandardScaler\n",
    "from sklearn.pipeline import Pipeline\n",
    "import pandas as pd\n",
    "\n",
    "# Load Iris dataset\n",
    "# This dataset contains 4 features and a target variable with 3 classes of flowers.\n",
    "data = load_iris()\n",
    "X = pd.DataFrame(data.data, columns=data.feature_names)  # Features\n",
    "y = data.target  # Target variable\n",
    "\n",
    "# Split the data into training and testing sets (80% train, 20% test)\n",
    "X_train, X_test, y_train, y_test = train_test_split(X, y, test_size=0.2, random_state=42)\n",
    "\n",
    "# Define solvers to compare for Logistic Regression\n",
    "solvers = [\"lbfgs\", \"liblinear\", \"sag\", \"saga\", \"newton-cg\"]\n",
    "\n",
    "# Set up MLflow for experiment tracking\n",
    "# The tracking URI points to a locally running MLflow server\n",
    "mlflow.set_tracking_uri(\"http://127.0.0.1:5000\")\n",
    "mlflow.set_experiment(\"Solver Comparison for Logistic Regression\")\n",
    "\n",
    "# Iterate over each solver and train a Logistic Regression model\n",
    "for solver in solvers:\n",
    "    with mlflow.start_run():  # Start a new MLflow run\n",
    "        print(f\"Training with solver: {solver}\")\n",
    "        \n",
    "        # Build a pipeline for scaling and model training\n",
    "        pipeline = Pipeline([\n",
    "            (\"scaler\", StandardScaler()),  # Standardize features\n",
    "            (\"model\", LogisticRegression(solver=solver, max_iter=1000, random_state=42, multi_class=\"auto\"))\n",
    "        ])\n",
    "        \n",
    "        # Train the pipeline on the training data\n",
    "        pipeline.fit(X_train, y_train)\n",
    "        \n",
    "        # Predict on the test set and calculate evaluation metrics\n",
    "        y_pred = pipeline.predict(X_test)\n",
    "        accuracy = accuracy_score(y_test, y_pred)  # Classification accuracy\n",
    "        f1 = f1_score(y_test, y_pred, average=\"weighted\")  # Weighted F1 score\n",
    "        \n",
    "        print(f\"Accuracy: {accuracy}, F1 Score: {f1}\")\n",
    "        \n",
    "        # Log solver as a parameter\n",
    "        mlflow.log_param(\"solver\", solver)\n",
    "        mlflow.log_param(\"max_iter\", 1000)  # Log the max iteration parameter\n",
    "        \n",
    "        # Log metrics\n",
    "        mlflow.log_metric(\"accuracy\", accuracy)\n",
    "        mlflow.log_metric(\"f1_score\", f1)\n",
    "        \n",
    "        # Log the model to MLflow\n",
    "        mlflow.sklearn.log_model(\n",
    "            sk_model=pipeline,\n",
    "            artifact_path=f\"logistic_regression_{solver}\",\n",
    "            registered_model_name=f\"logistic_regression_solver_{solver}\"  # Register the model under a unique name\n",
    "        )\n",
    "        \n",
    "        print(f\"Model with solver '{solver}' logged successfully.\\n\")\n"
   ]
  },
  {
   "cell_type": "code",
   "execution_count": null,
   "metadata": {},
   "outputs": [],
   "source": []
  }
 ],
 "metadata": {
  "kernelspec": {
   "display_name": "Python 3",
   "language": "python",
   "name": "python3"
  },
  "language_info": {
   "codemirror_mode": {
    "name": "ipython",
    "version": 3
   },
   "file_extension": ".py",
   "mimetype": "text/x-python",
   "name": "python",
   "nbconvert_exporter": "python",
   "pygments_lexer": "ipython3",
   "version": "3.10.16"
  }
 },
 "nbformat": 4,
 "nbformat_minor": 2
}
